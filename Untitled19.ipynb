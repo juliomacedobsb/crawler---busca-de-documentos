{
  "nbformat": 4,
  "nbformat_minor": 0,
  "metadata": {
    "colab": {
      "name": "Untitled19.ipynb",
      "provenance": [],
      "authorship_tag": "ABX9TyPQQ1HEiibfKptqKopF161L",
      "include_colab_link": true
    },
    "kernelspec": {
      "name": "python3",
      "display_name": "Python 3"
    },
    "language_info": {
      "name": "python"
    }
  },
  "cells": [
    {
      "cell_type": "markdown",
      "metadata": {
        "id": "view-in-github",
        "colab_type": "text"
      },
      "source": [
        "<a href=\"https://colab.research.google.com/github/juliomacedobsb/crawler---busca-de-documentos/blob/main/Untitled19.ipynb\" target=\"_parent\"><img src=\"https://colab.research.google.com/assets/colab-badge.svg\" alt=\"Open In Colab\"/></a>"
      ]
    },
    {
      "cell_type": "markdown",
      "source": [
        "implementação do metodo crawl\n",
        "busca dos links fazendo busca dos links de uma pg  e percorre cada um desses links e tratamento dos links"
      ],
      "metadata": {
        "id": "a7D6UscFw45-"
      }
    },
    {
      "cell_type": "code",
      "execution_count": null,
      "metadata": {
        "id": "mlmvoeqWw2mz"
      },
      "outputs": [],
      "source": [
        "import urllib3\n",
        "from bs4 import BeautifulSoup\n",
        "from urllib.parse import urljoin\n",
        "\n",
        "def crawl(pagina):\n",
        "    urllib3.disable_warnings(urllib3.exceptions.InsecureRequestWarning)\n",
        "    http = urllib3.PoolManager()\n",
        "    try:\n",
        "        dados_pagina = http.request('get', pagina)\n",
        "    except:\n",
        "        print('erro ao abrir link' + pagina)\n",
        "     \n",
        "    sopa = BeautifulSoup(dados_pagina.data, \"lxml\")\n",
        "    links = sopa.find_all('a')\n",
        "    contador = 1\n",
        "    for link in links:\n",
        "        \n",
        "        if('href' in link.attrs):\n",
        "            url= urljoin(pagina, str(link.get('href')))\n",
        "            if url.find(\"'\") != -1:\n",
        "                continue\n",
        "            \n",
        "            print(url)\n",
        "            url = url.split('#')[0]\n",
        "            print(url)\n",
        "            print('\\n')\n",
        "            contador =  contador + 1      \n",
        "    print(contador)    \n"
      ]
    },
    {
      "cell_type": "markdown",
      "source": [
        ""
      ],
      "metadata": {
        "id": "lWC64CECw4QC"
      }
    }
  ]
}